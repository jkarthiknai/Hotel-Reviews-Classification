{
  "nbformat": 4,
  "nbformat_minor": 0,
  "metadata": {
    "colab": {
      "provenance": [],
      "gpuType": "T4",
      "include_colab_link": true
    },
    "kernelspec": {
      "name": "python3",
      "display_name": "Python 3"
    },
    "language_info": {
      "name": "python"
    },
    "accelerator": "GPU"
  },
  "cells": [
    {
      "cell_type": "markdown",
      "metadata": {
        "id": "view-in-github",
        "colab_type": "text"
      },
      "source": [
        "<a href=\"https://colab.research.google.com/github/jkarthiknai/Hotel-Reviews-Classification/blob/main/Truthful_Deceptive_Hotel_Reviews.ipynb\" target=\"_parent\"><img src=\"https://colab.research.google.com/assets/colab-badge.svg\" alt=\"Open In Colab\"/></a>"
      ]
    },
    {
      "cell_type": "code",
      "source": [
        "import pandas as pd\n",
        "import numpy as np\n",
        "import matplotlib.pyplot as plt\n",
        "from sklearn.model_selection import train_test_split\n",
        "from sklearn.metrics import classification_report, confusion_matrix, roc_auc_score\n",
        "from sklearn.feature_extraction.text import TfidfVectorizer\n",
        "from sklearn.preprocessing import StandardScaler, OneHotEncoder\n",
        "from sklearn.metrics import roc_curve, auc, classification_report, confusion_matrix\n",
        "\n",
        "from transformers import RobertaTokenizer\n",
        "from sklearn.model_selection import GridSearchCV\n",
        "import transformers"
      ],
      "metadata": {
        "id": "iRC2SpyGbt-l"
      },
      "execution_count": null,
      "outputs": []
    },
    {
      "cell_type": "code",
      "source": [
        "!pip install --upgrade transformers"
      ],
      "metadata": {
        "colab": {
          "base_uri": "https://localhost:8080/"
        },
        "id": "ZenxSMNGlBx5",
        "outputId": "76b79990-3f01-4c0a-b49a-0550a2f4838e"
      },
      "execution_count": null,
      "outputs": [
        {
          "output_type": "stream",
          "name": "stdout",
          "text": [
            "Requirement already satisfied: transformers in /usr/local/lib/python3.11/dist-packages (4.53.0)\n",
            "Requirement already satisfied: filelock in /usr/local/lib/python3.11/dist-packages (from transformers) (3.18.0)\n",
            "Requirement already satisfied: huggingface-hub<1.0,>=0.30.0 in /usr/local/lib/python3.11/dist-packages (from transformers) (0.33.0)\n",
            "Requirement already satisfied: numpy>=1.17 in /usr/local/lib/python3.11/dist-packages (from transformers) (2.0.2)\n",
            "Requirement already satisfied: packaging>=20.0 in /usr/local/lib/python3.11/dist-packages (from transformers) (24.2)\n",
            "Requirement already satisfied: pyyaml>=5.1 in /usr/local/lib/python3.11/dist-packages (from transformers) (6.0.2)\n",
            "Requirement already satisfied: regex!=2019.12.17 in /usr/local/lib/python3.11/dist-packages (from transformers) (2024.11.6)\n",
            "Requirement already satisfied: requests in /usr/local/lib/python3.11/dist-packages (from transformers) (2.32.3)\n",
            "Requirement already satisfied: tokenizers<0.22,>=0.21 in /usr/local/lib/python3.11/dist-packages (from transformers) (0.21.1)\n",
            "Requirement already satisfied: safetensors>=0.4.3 in /usr/local/lib/python3.11/dist-packages (from transformers) (0.5.3)\n",
            "Requirement already satisfied: tqdm>=4.27 in /usr/local/lib/python3.11/dist-packages (from transformers) (4.67.1)\n",
            "Requirement already satisfied: fsspec>=2023.5.0 in /usr/local/lib/python3.11/dist-packages (from huggingface-hub<1.0,>=0.30.0->transformers) (2025.3.2)\n",
            "Requirement already satisfied: typing-extensions>=3.7.4.3 in /usr/local/lib/python3.11/dist-packages (from huggingface-hub<1.0,>=0.30.0->transformers) (4.14.0)\n",
            "Requirement already satisfied: hf-xet<2.0.0,>=1.1.2 in /usr/local/lib/python3.11/dist-packages (from huggingface-hub<1.0,>=0.30.0->transformers) (1.1.5)\n",
            "Requirement already satisfied: charset-normalizer<4,>=2 in /usr/local/lib/python3.11/dist-packages (from requests->transformers) (3.4.2)\n",
            "Requirement already satisfied: idna<4,>=2.5 in /usr/local/lib/python3.11/dist-packages (from requests->transformers) (3.10)\n",
            "Requirement already satisfied: urllib3<3,>=1.21.1 in /usr/local/lib/python3.11/dist-packages (from requests->transformers) (2.4.0)\n",
            "Requirement already satisfied: certifi>=2017.4.17 in /usr/local/lib/python3.11/dist-packages (from requests->transformers) (2025.6.15)\n"
          ]
        }
      ]
    },
    {
      "cell_type": "code",
      "source": [
        "df =pd.DataFrame()\n",
        "df = pd.read_csv('Hotel_Reviews_EDA.csv')\n",
        "df1 = df\n",
        "df.info()"
      ],
      "metadata": {
        "id": "JCpiKSJQUyA-",
        "colab": {
          "base_uri": "https://localhost:8080/"
        },
        "outputId": "5340c9b8-b88e-455c-ba2e-612ffbc6684b"
      },
      "execution_count": null,
      "outputs": [
        {
          "output_type": "stream",
          "name": "stdout",
          "text": [
            "<class 'pandas.core.frame.DataFrame'>\n",
            "RangeIndex: 1600 entries, 0 to 1599\n",
            "Data columns (total 16 columns):\n",
            " #   Column                  Non-Null Count  Dtype  \n",
            "---  ------                  --------------  -----  \n",
            " 0   Unnamed: 0              1600 non-null   int64  \n",
            " 1   hotel_name              1600 non-null   object \n",
            " 2   review_text             1600 non-null   object \n",
            " 3   review_type             1600 non-null   object \n",
            " 4   polarity                1600 non-null   object \n",
            " 5   word_count              1600 non-null   int64  \n",
            " 6   sentence_count          1600 non-null   int64  \n",
            " 7   avgwordsper_sentence    1600 non-null   float64\n",
            " 8   cleaned_text            1600 non-null   object \n",
            " 9   sentiment_polarity      1600 non-null   float64\n",
            " 10  sentiment_subjectivity  1600 non-null   float64\n",
            " 11  emotion                 1600 non-null   object \n",
            " 12  pos_counts              1600 non-null   object \n",
            " 13  entities                1600 non-null   object \n",
            " 14  pronouns                1600 non-null   object \n",
            " 15  action_verbs            1600 non-null   object \n",
            "dtypes: float64(3), int64(3), object(10)\n",
            "memory usage: 200.1+ KB\n"
          ]
        }
      ]
    },
    {
      "cell_type": "code",
      "source": [
        "import pandas as pd\n",
        "from collections import Counter\n",
        "\n",
        "# Convert the 'pos_counts' column from string to actual Counter objects if necessary\n",
        "df1['pos_counts'] = df1['pos_counts'].apply(lambda x: eval(x, {'Counter': Counter}))  # Pass Counter to eval()\n",
        "\n",
        "# Extract 'NUM' and 'PUNCT' counts and create separate columns\n",
        "df1['pos_number'] = df1['pos_counts'].apply(lambda x: x.get('NUM', 0))\n",
        "df1['pos_punct'] = df1['pos_counts'].apply(lambda x: x.get('PUNCT', 0))\n",
        "\n",
        "# Drop the original 'pos_counts' column if no longer needed\n",
        "# df1 = df1.drop(columns=['pos_counts'])\n",
        "\n",
        "# Display the resulting DataFrame with 'num' and 'punct' columns\n",
        "print(df1[['pos_number', 'pos_punct']].head())"
      ],
      "metadata": {
        "colab": {
          "base_uri": "https://localhost:8080/"
        },
        "id": "pfuXaXwhM8z9",
        "outputId": "433f11ed-f8ab-4cc6-a7fe-1ad7ef00b7bd"
      },
      "execution_count": null,
      "outputs": [
        {
          "output_type": "stream",
          "name": "stdout",
          "text": [
            "   pos_number  pos_punct\n",
            "0           5          0\n",
            "1           1          0\n",
            "2           0          1\n",
            "3           0          1\n",
            "4           5          3\n"
          ]
        }
      ]
    },
    {
      "cell_type": "code",
      "source": [
        "import pandas as pd\n",
        "# Create new features based on specific pronouns\n",
        "df1['pron_us'] = df1['pronouns'].apply(lambda x: x.count('us'))\n",
        "df1['pron_anyone'] = df1['pronouns'].apply(lambda x: x.count('anyone'))\n",
        "\n",
        "# Display the resulting DataFrame with 'pron_us' and 'pron_anyone' columns\n",
        "print(df1[['pron_us', 'pron_anyone']].head())"
      ],
      "metadata": {
        "colab": {
          "base_uri": "https://localhost:8080/"
        },
        "id": "5uV2YmVYM8wn",
        "outputId": "f57bc1fb-4ac9-4241-903c-bae6792f84c9"
      },
      "execution_count": null,
      "outputs": [
        {
          "output_type": "stream",
          "name": "stdout",
          "text": [
            "   pron_us  pron_anyone\n",
            "0        2            0\n",
            "1        0            0\n",
            "2        0            0\n",
            "3        0            0\n",
            "4        0            0\n"
          ]
        }
      ]
    },
    {
      "cell_type": "code",
      "source": [
        "import pandas as pd\n",
        "\n",
        "# Create the new feature based on the occurrence of the action verb \"staying\"\n",
        "df['av_staying'] = df['action_verbs'].apply(lambda x: x.count('staying'))\n",
        "\n",
        "# Display the resulting DataFrame with the 'av_staying' column\n",
        "print(df[['av_staying']].head())"
      ],
      "metadata": {
        "colab": {
          "base_uri": "https://localhost:8080/"
        },
        "id": "0tySjNh9M8uM",
        "outputId": "0958dbf2-7d48-4563-9ca9-554ec8b4db69"
      },
      "execution_count": null,
      "outputs": [
        {
          "output_type": "stream",
          "name": "stdout",
          "text": [
            "   av_staying\n",
            "0           0\n",
            "1           0\n",
            "2           0\n",
            "3           0\n",
            "4           0\n"
          ]
        }
      ]
    },
    {
      "cell_type": "code",
      "source": [
        "df1.columns"
      ],
      "metadata": {
        "colab": {
          "base_uri": "https://localhost:8080/"
        },
        "id": "2jR0i6etQKFJ",
        "outputId": "48c91a71-f4e2-484b-f41f-876e4e91a2f9"
      },
      "execution_count": null,
      "outputs": [
        {
          "output_type": "execute_result",
          "data": {
            "text/plain": [
              "Index(['Unnamed: 0', 'hotel_name', 'review_text', 'review_type', 'polarity',\n",
              "       'word_count', 'sentence_count', 'avgwordsper_sentence', 'cleaned_text',\n",
              "       'sentiment_polarity', 'sentiment_subjectivity', 'emotion', 'pos_counts',\n",
              "       'entities', 'pronouns', 'action_verbs', 'pos_number', 'pos_punct',\n",
              "       'pron_us', 'pron_anyone', 'av_staying'],\n",
              "      dtype='object')"
            ]
          },
          "metadata": {},
          "execution_count": 41
        }
      ]
    },
    {
      "cell_type": "code",
      "source": [
        "df1.info()"
      ],
      "metadata": {
        "colab": {
          "base_uri": "https://localhost:8080/"
        },
        "id": "kUMAt3tkfZi8",
        "outputId": "f1df969e-fc5c-4ae6-aa12-a96d62b77571"
      },
      "execution_count": null,
      "outputs": [
        {
          "output_type": "stream",
          "name": "stdout",
          "text": [
            "<class 'pandas.core.frame.DataFrame'>\n",
            "RangeIndex: 1600 entries, 0 to 1599\n",
            "Data columns (total 21 columns):\n",
            " #   Column                  Non-Null Count  Dtype  \n",
            "---  ------                  --------------  -----  \n",
            " 0   Unnamed: 0              1600 non-null   int64  \n",
            " 1   hotel_name              1600 non-null   object \n",
            " 2   review_text             1600 non-null   object \n",
            " 3   review_type             1600 non-null   object \n",
            " 4   polarity                1600 non-null   object \n",
            " 5   word_count              1600 non-null   int64  \n",
            " 6   sentence_count          1600 non-null   int64  \n",
            " 7   avgwordsper_sentence    1600 non-null   float64\n",
            " 8   cleaned_text            1600 non-null   object \n",
            " 9   sentiment_polarity      1600 non-null   float64\n",
            " 10  sentiment_subjectivity  1600 non-null   float64\n",
            " 11  emotion                 1600 non-null   object \n",
            " 12  pos_counts              1600 non-null   object \n",
            " 13  entities                1600 non-null   object \n",
            " 14  pronouns                1600 non-null   object \n",
            " 15  action_verbs            1600 non-null   object \n",
            " 16  pos_number              1600 non-null   int64  \n",
            " 17  pos_punct               1600 non-null   int64  \n",
            " 18  pron_us                 1600 non-null   int64  \n",
            " 19  pron_anyone             1600 non-null   int64  \n",
            " 20  av_staying              1600 non-null   int64  \n",
            "dtypes: float64(3), int64(8), object(10)\n",
            "memory usage: 262.6+ KB\n"
          ]
        }
      ]
    },
    {
      "cell_type": "code",
      "source": [
        "X_numerical = df1[['word_count', 'sentence_count', 'avgwordsper_sentence',\n",
        "       'sentiment_polarity', 'sentiment_subjectivity','pos_number', 'pos_punct',\n",
        "       'pron_us', 'pron_anyone', 'av_staying']]\n",
        "print(X_numerical)"
      ],
      "metadata": {
        "id": "cUrmRiY6cjth",
        "colab": {
          "base_uri": "https://localhost:8080/"
        },
        "outputId": "4761b676-e89d-47e4-cd29-f0ffd3c02791"
      },
      "execution_count": null,
      "outputs": [
        {
          "output_type": "stream",
          "name": "stdout",
          "text": [
            "      word_count  sentence_count  avgwordsper_sentence  sentiment_polarity  \\\n",
            "0            962              10             96.200000            0.192500   \n",
            "1            652              10             65.200000            0.326515   \n",
            "2            317               6             52.833333            0.442593   \n",
            "3            231               5             46.200000            0.633333   \n",
            "4            322               6             53.666667           -0.166667   \n",
            "...          ...             ...                   ...                 ...   \n",
            "1595         836               7            119.428571            0.128333   \n",
            "1596         699               6            116.500000            0.018333   \n",
            "1597        1267              20             63.350000            0.057099   \n",
            "1598         314               4             78.500000            0.020000   \n",
            "1599        1393              12            116.083333            0.090789   \n",
            "\n",
            "      sentiment_subjectivity  pos_number  pos_punct  pron_us  pron_anyone  \\\n",
            "0                   0.438056           5          0        2            0   \n",
            "1                   0.612121           1          0        0            0   \n",
            "2                   0.818519           0          1        0            0   \n",
            "3                   0.719048           0          1        0            0   \n",
            "4                   0.166667           5          3        0            0   \n",
            "...                      ...         ...        ...      ...          ...   \n",
            "1595                0.550000           0          3        0            0   \n",
            "1596                0.262222           0          0        0            0   \n",
            "1597                0.617901           2          0        1            0   \n",
            "1598                0.730000           0          0        0            0   \n",
            "1599                0.442105           3          3        0            0   \n",
            "\n",
            "      av_staying  \n",
            "0              0  \n",
            "1              0  \n",
            "2              0  \n",
            "3              0  \n",
            "4              0  \n",
            "...          ...  \n",
            "1595           0  \n",
            "1596           0  \n",
            "1597           0  \n",
            "1598           0  \n",
            "1599           1  \n",
            "\n",
            "[1600 rows x 10 columns]\n"
          ]
        }
      ]
    },
    {
      "cell_type": "code",
      "source": [
        "scaler = StandardScaler()\n",
        "X_transformed = scaler.fit_transform(X_numerical)\n",
        "X_transformed = pd.DataFrame(X_transformed, columns=X_numerical.columns)\n",
        "X_transformed.info()"
      ],
      "metadata": {
        "colab": {
          "base_uri": "https://localhost:8080/"
        },
        "id": "zirXnj73fKms",
        "outputId": "4a6ed28e-8aee-4c60-e9d4-4134dfb8e437"
      },
      "execution_count": null,
      "outputs": [
        {
          "output_type": "stream",
          "name": "stdout",
          "text": [
            "<class 'pandas.core.frame.DataFrame'>\n",
            "RangeIndex: 1600 entries, 0 to 1599\n",
            "Data columns (total 10 columns):\n",
            " #   Column                  Non-Null Count  Dtype  \n",
            "---  ------                  --------------  -----  \n",
            " 0   word_count              1600 non-null   float64\n",
            " 1   sentence_count          1600 non-null   float64\n",
            " 2   avgwordsper_sentence    1600 non-null   float64\n",
            " 3   sentiment_polarity      1600 non-null   float64\n",
            " 4   sentiment_subjectivity  1600 non-null   float64\n",
            " 5   pos_number              1600 non-null   float64\n",
            " 6   pos_punct               1600 non-null   float64\n",
            " 7   pron_us                 1600 non-null   float64\n",
            " 8   pron_anyone             1600 non-null   float64\n",
            " 9   av_staying              1600 non-null   float64\n",
            "dtypes: float64(10)\n",
            "memory usage: 125.1 KB\n"
          ]
        }
      ]
    },
    {
      "cell_type": "code",
      "source": [
        "encoder = OneHotEncoder(sparse_output=False)\n",
        "emotion_encoded = encoder.fit_transform(df1[['emotion']])\n",
        "emotion_columns = encoder.get_feature_names_out(['emotion'])\n",
        "emotion_encoding = pd.DataFrame(emotion_encoded, columns=emotion_columns)\n",
        "\n",
        "encoder = OneHotEncoder(sparse_output=False)\n",
        "polarity_encoded = encoder.fit_transform(df1[['polarity']])\n",
        "polarity_columns = encoder.get_feature_names_out(['polarity'])\n",
        "polarity_encoding = pd.DataFrame(polarity_encoded, columns=polarity_columns)"
      ],
      "metadata": {
        "id": "CxYZwSRGcji7"
      },
      "execution_count": null,
      "outputs": []
    },
    {
      "cell_type": "code",
      "source": [
        "df1.columns"
      ],
      "metadata": {
        "colab": {
          "base_uri": "https://localhost:8080/"
        },
        "id": "LcDXNeCcS_WC",
        "outputId": "77915c1e-c461-4345-907c-55082b768eb3"
      },
      "execution_count": null,
      "outputs": [
        {
          "output_type": "execute_result",
          "data": {
            "text/plain": [
              "Index(['Unnamed: 0', 'hotel_name', 'review_text', 'review_type', 'polarity',\n",
              "       'word_count', 'sentence_count', 'avgwordsper_sentence', 'cleaned_text',\n",
              "       'sentiment_polarity', 'sentiment_subjectivity', 'emotion', 'pos_counts',\n",
              "       'entities', 'pronouns', 'action_verbs', 'pos_number', 'pos_punct',\n",
              "       'pron_us', 'pron_anyone', 'av_staying'],\n",
              "      dtype='object')"
            ]
          },
          "metadata": {},
          "execution_count": 46
        }
      ]
    },
    {
      "cell_type": "code",
      "source": [
        "review_text_type=pd.DataFrame(df1[['review_text', 'review_type']],columns=['review_text','review_type'])\n",
        "df2=pd.concat([X_transformed, emotion_encoding, polarity_encoding, review_text_type], axis=1)"
      ],
      "metadata": {
        "id": "iEMsfUtCdnYr"
      },
      "execution_count": null,
      "outputs": []
    },
    {
      "cell_type": "code",
      "source": [
        "df2=df2.drop(columns=['pron_anyone', 'av_staying'])"
      ],
      "metadata": {
        "id": "S8IxLiuDH79B"
      },
      "execution_count": null,
      "outputs": []
    },
    {
      "cell_type": "code",
      "source": [
        "df2.info()"
      ],
      "metadata": {
        "colab": {
          "base_uri": "https://localhost:8080/"
        },
        "id": "It0yru9tRtEW",
        "outputId": "172ba428-1940-476d-d2e8-61ac1431fa0b"
      },
      "execution_count": null,
      "outputs": [
        {
          "output_type": "stream",
          "name": "stdout",
          "text": [
            "<class 'pandas.core.frame.DataFrame'>\n",
            "RangeIndex: 1600 entries, 0 to 1599\n",
            "Data columns (total 17 columns):\n",
            " #   Column                  Non-Null Count  Dtype  \n",
            "---  ------                  --------------  -----  \n",
            " 0   word_count              1600 non-null   float64\n",
            " 1   sentence_count          1600 non-null   float64\n",
            " 2   avgwordsper_sentence    1600 non-null   float64\n",
            " 3   sentiment_polarity      1600 non-null   float64\n",
            " 4   sentiment_subjectivity  1600 non-null   float64\n",
            " 5   pos_number              1600 non-null   float64\n",
            " 6   pos_punct               1600 non-null   float64\n",
            " 7   pron_us                 1600 non-null   float64\n",
            " 8   emotion_Anger           1600 non-null   float64\n",
            " 9   emotion_Fear            1600 non-null   float64\n",
            " 10  emotion_Joy             1600 non-null   float64\n",
            " 11  emotion_Neutral         1600 non-null   float64\n",
            " 12  emotion_Trust           1600 non-null   float64\n",
            " 13  polarity_negative       1600 non-null   float64\n",
            " 14  polarity_positive       1600 non-null   float64\n",
            " 15  review_text             1600 non-null   object \n",
            " 16  review_type             1600 non-null   object \n",
            "dtypes: float64(15), object(2)\n",
            "memory usage: 212.6+ KB\n"
          ]
        }
      ]
    },
    {
      "cell_type": "code",
      "source": [
        "df2['target'] = df2['review_type'].map({'truthful': 0, 'deceptive': 1})\n",
        "df2['target'].value_counts()"
      ],
      "metadata": {
        "id": "NX-gTKg74tgx",
        "colab": {
          "base_uri": "https://localhost:8080/",
          "height": 178
        },
        "outputId": "dfda0de2-bda9-4842-c22b-2366fc4b11d6"
      },
      "execution_count": null,
      "outputs": [
        {
          "output_type": "execute_result",
          "data": {
            "text/plain": [
              "target\n",
              "0    800\n",
              "1    800\n",
              "Name: count, dtype: int64"
            ],
            "text/html": [
              "<div>\n",
              "<style scoped>\n",
              "    .dataframe tbody tr th:only-of-type {\n",
              "        vertical-align: middle;\n",
              "    }\n",
              "\n",
              "    .dataframe tbody tr th {\n",
              "        vertical-align: top;\n",
              "    }\n",
              "\n",
              "    .dataframe thead th {\n",
              "        text-align: right;\n",
              "    }\n",
              "</style>\n",
              "<table border=\"1\" class=\"dataframe\">\n",
              "  <thead>\n",
              "    <tr style=\"text-align: right;\">\n",
              "      <th></th>\n",
              "      <th>count</th>\n",
              "    </tr>\n",
              "    <tr>\n",
              "      <th>target</th>\n",
              "      <th></th>\n",
              "    </tr>\n",
              "  </thead>\n",
              "  <tbody>\n",
              "    <tr>\n",
              "      <th>0</th>\n",
              "      <td>800</td>\n",
              "    </tr>\n",
              "    <tr>\n",
              "      <th>1</th>\n",
              "      <td>800</td>\n",
              "    </tr>\n",
              "  </tbody>\n",
              "</table>\n",
              "</div><br><label><b>dtype:</b> int64</label>"
            ]
          },
          "metadata": {},
          "execution_count": 50
        }
      ]
    },
    {
      "cell_type": "code",
      "source": [
        "df2.columns"
      ],
      "metadata": {
        "colab": {
          "base_uri": "https://localhost:8080/"
        },
        "id": "RAPFpjoKJfsb",
        "outputId": "8103e957-666c-4198-a35d-ec150c5ecddd"
      },
      "execution_count": null,
      "outputs": [
        {
          "output_type": "execute_result",
          "data": {
            "text/plain": [
              "Index(['word_count', 'sentence_count', 'avgwordsper_sentence',\n",
              "       'sentiment_polarity', 'sentiment_subjectivity', 'pos_number',\n",
              "       'pos_punct', 'pron_us', 'emotion_Anger', 'emotion_Fear', 'emotion_Joy',\n",
              "       'emotion_Neutral', 'emotion_Trust', 'polarity_negative',\n",
              "       'polarity_positive', 'review_text', 'review_type', 'target'],\n",
              "      dtype='object')"
            ]
          },
          "metadata": {},
          "execution_count": 51
        }
      ]
    },
    {
      "cell_type": "code",
      "source": [
        "df2[['polarity_negative','polarity_positive']].value_counts()"
      ],
      "metadata": {
        "colab": {
          "base_uri": "https://localhost:8080/",
          "height": 178
        },
        "id": "kJCewZJI-Sz9",
        "outputId": "1c211298-738d-4cea-a5da-d1fabf15a101"
      },
      "execution_count": null,
      "outputs": [
        {
          "output_type": "execute_result",
          "data": {
            "text/plain": [
              "polarity_negative  polarity_positive\n",
              "0.0                1.0                  800\n",
              "1.0                0.0                  800\n",
              "Name: count, dtype: int64"
            ],
            "text/html": [
              "<div>\n",
              "<style scoped>\n",
              "    .dataframe tbody tr th:only-of-type {\n",
              "        vertical-align: middle;\n",
              "    }\n",
              "\n",
              "    .dataframe tbody tr th {\n",
              "        vertical-align: top;\n",
              "    }\n",
              "\n",
              "    .dataframe thead th {\n",
              "        text-align: right;\n",
              "    }\n",
              "</style>\n",
              "<table border=\"1\" class=\"dataframe\">\n",
              "  <thead>\n",
              "    <tr style=\"text-align: right;\">\n",
              "      <th></th>\n",
              "      <th></th>\n",
              "      <th>count</th>\n",
              "    </tr>\n",
              "    <tr>\n",
              "      <th>polarity_negative</th>\n",
              "      <th>polarity_positive</th>\n",
              "      <th></th>\n",
              "    </tr>\n",
              "  </thead>\n",
              "  <tbody>\n",
              "    <tr>\n",
              "      <th>0.0</th>\n",
              "      <th>1.0</th>\n",
              "      <td>800</td>\n",
              "    </tr>\n",
              "    <tr>\n",
              "      <th>1.0</th>\n",
              "      <th>0.0</th>\n",
              "      <td>800</td>\n",
              "    </tr>\n",
              "  </tbody>\n",
              "</table>\n",
              "</div><br><label><b>dtype:</b> int64</label>"
            ]
          },
          "metadata": {},
          "execution_count": 52
        }
      ]
    },
    {
      "cell_type": "code",
      "source": [
        "!pip install transformers torch"
      ],
      "metadata": {
        "id": "6YlHfS3xVtuq",
        "colab": {
          "base_uri": "https://localhost:8080/"
        },
        "outputId": "4f3c753c-795b-414d-f124-867010d9088d"
      },
      "execution_count": null,
      "outputs": [
        {
          "output_type": "stream",
          "name": "stdout",
          "text": [
            "Requirement already satisfied: transformers in /usr/local/lib/python3.11/dist-packages (4.53.0)\n",
            "Requirement already satisfied: torch in /usr/local/lib/python3.11/dist-packages (2.6.0+cu124)\n",
            "Requirement already satisfied: filelock in /usr/local/lib/python3.11/dist-packages (from transformers) (3.18.0)\n",
            "Requirement already satisfied: huggingface-hub<1.0,>=0.30.0 in /usr/local/lib/python3.11/dist-packages (from transformers) (0.33.0)\n",
            "Requirement already satisfied: numpy>=1.17 in /usr/local/lib/python3.11/dist-packages (from transformers) (2.0.2)\n",
            "Requirement already satisfied: packaging>=20.0 in /usr/local/lib/python3.11/dist-packages (from transformers) (24.2)\n",
            "Requirement already satisfied: pyyaml>=5.1 in /usr/local/lib/python3.11/dist-packages (from transformers) (6.0.2)\n",
            "Requirement already satisfied: regex!=2019.12.17 in /usr/local/lib/python3.11/dist-packages (from transformers) (2024.11.6)\n",
            "Requirement already satisfied: requests in /usr/local/lib/python3.11/dist-packages (from transformers) (2.32.3)\n",
            "Requirement already satisfied: tokenizers<0.22,>=0.21 in /usr/local/lib/python3.11/dist-packages (from transformers) (0.21.1)\n",
            "Requirement already satisfied: safetensors>=0.4.3 in /usr/local/lib/python3.11/dist-packages (from transformers) (0.5.3)\n",
            "Requirement already satisfied: tqdm>=4.27 in /usr/local/lib/python3.11/dist-packages (from transformers) (4.67.1)\n",
            "Requirement already satisfied: typing-extensions>=4.10.0 in /usr/local/lib/python3.11/dist-packages (from torch) (4.14.0)\n",
            "Requirement already satisfied: networkx in /usr/local/lib/python3.11/dist-packages (from torch) (3.5)\n",
            "Requirement already satisfied: jinja2 in /usr/local/lib/python3.11/dist-packages (from torch) (3.1.6)\n",
            "Requirement already satisfied: fsspec in /usr/local/lib/python3.11/dist-packages (from torch) (2025.3.2)\n",
            "Requirement already satisfied: nvidia-cuda-nvrtc-cu12==12.4.127 in /usr/local/lib/python3.11/dist-packages (from torch) (12.4.127)\n",
            "Requirement already satisfied: nvidia-cuda-runtime-cu12==12.4.127 in /usr/local/lib/python3.11/dist-packages (from torch) (12.4.127)\n",
            "Requirement already satisfied: nvidia-cuda-cupti-cu12==12.4.127 in /usr/local/lib/python3.11/dist-packages (from torch) (12.4.127)\n",
            "Requirement already satisfied: nvidia-cudnn-cu12==9.1.0.70 in /usr/local/lib/python3.11/dist-packages (from torch) (9.1.0.70)\n",
            "Requirement already satisfied: nvidia-cublas-cu12==12.4.5.8 in /usr/local/lib/python3.11/dist-packages (from torch) (12.4.5.8)\n",
            "Requirement already satisfied: nvidia-cufft-cu12==11.2.1.3 in /usr/local/lib/python3.11/dist-packages (from torch) (11.2.1.3)\n",
            "Requirement already satisfied: nvidia-curand-cu12==10.3.5.147 in /usr/local/lib/python3.11/dist-packages (from torch) (10.3.5.147)\n",
            "Requirement already satisfied: nvidia-cusolver-cu12==11.6.1.9 in /usr/local/lib/python3.11/dist-packages (from torch) (11.6.1.9)\n",
            "Requirement already satisfied: nvidia-cusparse-cu12==12.3.1.170 in /usr/local/lib/python3.11/dist-packages (from torch) (12.3.1.170)\n",
            "Requirement already satisfied: nvidia-cusparselt-cu12==0.6.2 in /usr/local/lib/python3.11/dist-packages (from torch) (0.6.2)\n",
            "Requirement already satisfied: nvidia-nccl-cu12==2.21.5 in /usr/local/lib/python3.11/dist-packages (from torch) (2.21.5)\n",
            "Requirement already satisfied: nvidia-nvtx-cu12==12.4.127 in /usr/local/lib/python3.11/dist-packages (from torch) (12.4.127)\n",
            "Requirement already satisfied: nvidia-nvjitlink-cu12==12.4.127 in /usr/local/lib/python3.11/dist-packages (from torch) (12.4.127)\n",
            "Requirement already satisfied: triton==3.2.0 in /usr/local/lib/python3.11/dist-packages (from torch) (3.2.0)\n",
            "Requirement already satisfied: sympy==1.13.1 in /usr/local/lib/python3.11/dist-packages (from torch) (1.13.1)\n",
            "Requirement already satisfied: mpmath<1.4,>=1.1.0 in /usr/local/lib/python3.11/dist-packages (from sympy==1.13.1->torch) (1.3.0)\n",
            "Requirement already satisfied: hf-xet<2.0.0,>=1.1.2 in /usr/local/lib/python3.11/dist-packages (from huggingface-hub<1.0,>=0.30.0->transformers) (1.1.5)\n",
            "Requirement already satisfied: MarkupSafe>=2.0 in /usr/local/lib/python3.11/dist-packages (from jinja2->torch) (3.0.2)\n",
            "Requirement already satisfied: charset-normalizer<4,>=2 in /usr/local/lib/python3.11/dist-packages (from requests->transformers) (3.4.2)\n",
            "Requirement already satisfied: idna<4,>=2.5 in /usr/local/lib/python3.11/dist-packages (from requests->transformers) (3.10)\n",
            "Requirement already satisfied: urllib3<3,>=1.21.1 in /usr/local/lib/python3.11/dist-packages (from requests->transformers) (2.4.0)\n",
            "Requirement already satisfied: certifi>=2017.4.17 in /usr/local/lib/python3.11/dist-packages (from requests->transformers) (2025.6.15)\n"
          ]
        }
      ]
    },
    {
      "cell_type": "code",
      "source": [
        "train_df, temp_df = train_test_split(df2, test_size=0.25, stratify=df2['target'], random_state=73)\n",
        "\n",
        "# Split the temp_df into validation (15%) and test (15%)\n",
        "val_df, test_df = train_test_split(temp_df, test_size=0.5, stratify=temp_df['target'], random_state=73)\n",
        "\n",
        "# Initialize the tokenizer\n",
        "tokenizer = RobertaTokenizer.from_pretrained('roberta-base')\n",
        "\n",
        "# Tokenize the text data\n",
        "train_encodings = tokenizer(train_df['review_text'].tolist(), truncation=True, padding=True)\n",
        "val_encodings = tokenizer(val_df['review_text'].tolist(), truncation=True, padding=True)\n",
        "test_encodings = tokenizer(test_df['review_text'].tolist(), truncation=True, padding=True)\n",
        "\n",
        "# Convert the labels to a list\n",
        "train_labels = train_df['target'].tolist()\n",
        "val_labels = val_df['target'].tolist()\n",
        "test_labels = test_df['target'].tolist()"
      ],
      "metadata": {
        "id": "KXZd36s7ShBh"
      },
      "execution_count": null,
      "outputs": []
    },
    {
      "cell_type": "code",
      "source": [
        "#train_encodings.keys()"
      ],
      "metadata": {
        "id": "EMWeEUO4pWPv"
      },
      "execution_count": null,
      "outputs": []
    },
    {
      "cell_type": "code",
      "source": [
        "test_df.columns"
      ],
      "metadata": {
        "colab": {
          "base_uri": "https://localhost:8080/"
        },
        "id": "xePIxedAo7tq",
        "outputId": "48c49d6d-0c68-4689-cc95-382d7370e5b5"
      },
      "execution_count": null,
      "outputs": [
        {
          "output_type": "execute_result",
          "data": {
            "text/plain": [
              "Index(['word_count', 'sentence_count', 'avgwordsper_sentence',\n",
              "       'sentiment_polarity', 'sentiment_subjectivity', 'pos_number',\n",
              "       'pos_punct', 'pron_us', 'emotion_Anger', 'emotion_Fear', 'emotion_Joy',\n",
              "       'emotion_Neutral', 'emotion_Trust', 'polarity_negative',\n",
              "       'polarity_positive', 'review_text', 'review_type', 'target'],\n",
              "      dtype='object')"
            ]
          },
          "metadata": {},
          "execution_count": 56
        }
      ]
    },
    {
      "cell_type": "code",
      "source": [
        "import torch\n",
        "\n",
        "class ReviewDataset(torch.utils.data.Dataset):\n",
        "    def __init__(self, encodings, dataframe, labels):\n",
        "        self.encodings = encodings\n",
        "        self.labels = labels\n",
        "        self.dataframe = dataframe\n",
        "\n",
        "    def __getitem__(self, idx):\n",
        "        item = {key: torch.tensor(val[idx]) for key, val in self.encodings.items()}\n",
        "        item['labels'] = torch.tensor(self.labels[idx])\n",
        "\n",
        "        # Access the correct columns using self.dataframe.columns instead of test_df.columns\n",
        "        features = self.dataframe.iloc[idx][self.dataframe.columns].values\n",
        "        item['additional_features'] = torch.tensor(features, dtype=torch.float32)\n",
        "        return item\n",
        "\n",
        "    def __len__(self):\n",
        "        return len(self.labels)"
      ],
      "metadata": {
        "id": "zvwNH5pvYOhX"
      },
      "execution_count": null,
      "outputs": []
    },
    {
      "cell_type": "code",
      "source": [
        "train_df.info()"
      ],
      "metadata": {
        "colab": {
          "base_uri": "https://localhost:8080/"
        },
        "id": "x77hQrCNnoJv",
        "outputId": "ac7f1df1-f182-406a-9c68-543279972684"
      },
      "execution_count": null,
      "outputs": [
        {
          "output_type": "stream",
          "name": "stdout",
          "text": [
            "<class 'pandas.core.frame.DataFrame'>\n",
            "Index: 1200 entries, 1415 to 1377\n",
            "Data columns (total 18 columns):\n",
            " #   Column                  Non-Null Count  Dtype  \n",
            "---  ------                  --------------  -----  \n",
            " 0   word_count              1200 non-null   float64\n",
            " 1   sentence_count          1200 non-null   float64\n",
            " 2   avgwordsper_sentence    1200 non-null   float64\n",
            " 3   sentiment_polarity      1200 non-null   float64\n",
            " 4   sentiment_subjectivity  1200 non-null   float64\n",
            " 5   pos_number              1200 non-null   float64\n",
            " 6   pos_punct               1200 non-null   float64\n",
            " 7   pron_us                 1200 non-null   float64\n",
            " 8   emotion_Anger           1200 non-null   float64\n",
            " 9   emotion_Fear            1200 non-null   float64\n",
            " 10  emotion_Joy             1200 non-null   float64\n",
            " 11  emotion_Neutral         1200 non-null   float64\n",
            " 12  emotion_Trust           1200 non-null   float64\n",
            " 13  polarity_negative       1200 non-null   float64\n",
            " 14  polarity_positive       1200 non-null   float64\n",
            " 15  review_text             1200 non-null   object \n",
            " 16  review_type             1200 non-null   object \n",
            " 17  target                  1200 non-null   int64  \n",
            "dtypes: float64(15), int64(1), object(2)\n",
            "memory usage: 178.1+ KB\n"
          ]
        }
      ]
    },
    {
      "cell_type": "code",
      "source": [
        "# Create dataset objects for training, validation, and testing\n",
        "train_dataset = ReviewDataset(train_encodings, train_df.drop(columns=['review_text','review_type','target']), train_labels)\n",
        "val_dataset = ReviewDataset(val_encodings, val_df.drop(columns=['review_text','review_type','target']), val_labels)\n",
        "test_dataset = ReviewDataset(test_encodings, test_df.drop(columns=['review_text','review_type','target']), test_labels)"
      ],
      "metadata": {
        "id": "JW1TwdwYkRX3"
      },
      "execution_count": null,
      "outputs": []
    },
    {
      "cell_type": "code",
      "source": [
        "type(test_dataset)"
      ],
      "metadata": {
        "id": "cg4yAeR0wKKx",
        "colab": {
          "base_uri": "https://localhost:8080/",
          "height": 185
        },
        "outputId": "9ad41f08-b818-476d-844c-56ca3436ecfe"
      },
      "execution_count": null,
      "outputs": [
        {
          "output_type": "execute_result",
          "data": {
            "text/plain": [
              "__main__.ReviewDataset"
            ],
            "text/html": [
              "<div style=\"max-width:800px; border: 1px solid var(--colab-border-color);\"><style>\n",
              "      pre.function-repr-contents {\n",
              "        overflow-x: auto;\n",
              "        padding: 8px 12px;\n",
              "        max-height: 500px;\n",
              "      }\n",
              "\n",
              "      pre.function-repr-contents.function-repr-contents-collapsed {\n",
              "        cursor: pointer;\n",
              "        max-height: 100px;\n",
              "      }\n",
              "    </style>\n",
              "    <pre style=\"white-space: initial; background:\n",
              "         var(--colab-secondary-surface-color); padding: 8px 12px;\n",
              "         border-bottom: 1px solid var(--colab-border-color);\"><b>ReviewDataset</b><br/>def __init__(encodings, dataframe, labels)</pre><pre class=\"function-repr-contents function-repr-contents-collapsed\" style=\"\"><a class=\"filepath\" style=\"display:none\" href=\"#\"></a>An abstract class representing a :class:`Dataset`.\n",
              "\n",
              "All datasets that represent a map from keys to data samples should subclass\n",
              "it. All subclasses should overwrite :meth:`__getitem__`, supporting fetching a\n",
              "data sample for a given key. Subclasses could also optionally overwrite\n",
              ":meth:`__len__`, which is expected to return the size of the dataset by many\n",
              ":class:`~torch.utils.data.Sampler` implementations and the default options\n",
              "of :class:`~torch.utils.data.DataLoader`. Subclasses could also\n",
              "optionally implement :meth:`__getitems__`, for speedup batched samples\n",
              "loading. This method accepts list of indices of samples of batch and returns\n",
              "list of samples.\n",
              "\n",
              ".. note::\n",
              "  :class:`~torch.utils.data.DataLoader` by default constructs an index\n",
              "  sampler that yields integral indices.  To make it work with a map-style\n",
              "  dataset with non-integral indices/keys, a custom sampler must be provided.</pre></div>"
            ]
          },
          "metadata": {},
          "execution_count": 60
        }
      ]
    },
    {
      "cell_type": "code",
      "source": [
        "import transformers\n",
        "print(transformers.__version__)"
      ],
      "metadata": {
        "colab": {
          "base_uri": "https://localhost:8080/"
        },
        "id": "8UfC7EjTkt4X",
        "outputId": "8023cb51-da17-4aec-f027-ddecd00966d0"
      },
      "execution_count": null,
      "outputs": [
        {
          "output_type": "stream",
          "name": "stdout",
          "text": [
            "4.53.0\n"
          ]
        }
      ]
    },
    {
      "cell_type": "code",
      "source": [
        "from transformers import EarlyStoppingCallback, Trainer, TrainingArguments\n",
        "from transformers import RobertaForSequenceClassification, RobertaConfig\n",
        "from transformers import get_cosine_schedule_with_warmup\n",
        "from transformers.trainer_callback import TrainerCallback\n",
        "\n",
        "config = RobertaConfig.from_pretrained('roberta-base',\n",
        "                                       hidden_dropout_prob=0.15,\n",
        "                                       attention_probs_dropout_prob=0.18)\n",
        "\n",
        "model = RobertaForSequenceClassification.from_pretrained('roberta-base', config=config)\n",
        "\n",
        "training_args = TrainingArguments(\n",
        "    output_dir='./results',\n",
        "    num_train_epochs=5,\n",
        "    per_device_train_batch_size=16,\n",
        "    per_device_eval_batch_size=16,\n",
        "    warmup_steps=350,\n",
        "    weight_decay=0.029,\n",
        "    logging_dir='./logs',\n",
        "    logging_steps=10,\n",
        "    eval_strategy='epoch',\n",
        "    save_strategy='epoch',\n",
        "    learning_rate=0.000065,\n",
        "    save_total_limit=2,\n",
        "    load_best_model_at_end=True\n",
        ")\n",
        "\n",
        "# Define early stopping callback\n",
        "early_stopping = EarlyStoppingCallback(\n",
        "    early_stopping_patience=2,\n",
        "    early_stopping_threshold=0.001)\n",
        "\n",
        "# Initialize Trainer with early stopping and custom scheduler\n",
        "trainer = Trainer(\n",
        "    model=model,\n",
        "    args=training_args,\n",
        "    train_dataset=train_dataset,\n",
        "    eval_dataset=val_dataset,\n",
        "    callbacks=[early_stopping]\n",
        ")"
      ],
      "metadata": {
        "colab": {
          "base_uri": "https://localhost:8080/"
        },
        "id": "88lQ54ahS2jM",
        "outputId": "207e582d-4f95-4dec-97e7-cdede69b8f40"
      },
      "execution_count": null,
      "outputs": [
        {
          "output_type": "stream",
          "name": "stderr",
          "text": [
            "Some weights of RobertaForSequenceClassification were not initialized from the model checkpoint at roberta-base and are newly initialized: ['classifier.dense.bias', 'classifier.dense.weight', 'classifier.out_proj.bias', 'classifier.out_proj.weight']\n",
            "You should probably TRAIN this model on a down-stream task to be able to use it for predictions and inference.\n"
          ]
        }
      ]
    },
    {
      "cell_type": "code",
      "source": [
        "# Train the model\n",
        "trainer.train()"
      ],
      "metadata": {
        "colab": {
          "base_uri": "https://localhost:8080/",
          "height": 236
        },
        "id": "GDVRX6sCS2f1",
        "outputId": "0cc7ddd1-0304-4c04-cfbb-8e7bb0c897d1"
      },
      "execution_count": null,
      "outputs": [
        {
          "output_type": "display_data",
          "data": {
            "text/plain": [
              "<IPython.core.display.HTML object>"
            ],
            "text/html": [
              "\n",
              "    <div>\n",
              "      \n",
              "      <progress value='300' max='375' style='width:300px; height:20px; vertical-align: middle;'></progress>\n",
              "      [300/375 10:34 < 02:39, 0.47 it/s, Epoch 4/5]\n",
              "    </div>\n",
              "    <table border=\"1\" class=\"dataframe\">\n",
              "  <thead>\n",
              " <tr style=\"text-align: left;\">\n",
              "      <th>Epoch</th>\n",
              "      <th>Training Loss</th>\n",
              "      <th>Validation Loss</th>\n",
              "    </tr>\n",
              "  </thead>\n",
              "  <tbody>\n",
              "    <tr>\n",
              "      <td>1</td>\n",
              "      <td>0.686000</td>\n",
              "      <td>0.676325</td>\n",
              "    </tr>\n",
              "    <tr>\n",
              "      <td>2</td>\n",
              "      <td>0.396800</td>\n",
              "      <td>0.311672</td>\n",
              "    </tr>\n",
              "    <tr>\n",
              "      <td>3</td>\n",
              "      <td>0.381800</td>\n",
              "      <td>0.728116</td>\n",
              "    </tr>\n",
              "    <tr>\n",
              "      <td>4</td>\n",
              "      <td>0.512900</td>\n",
              "      <td>0.342640</td>\n",
              "    </tr>\n",
              "  </tbody>\n",
              "</table><p>"
            ]
          },
          "metadata": {}
        },
        {
          "output_type": "execute_result",
          "data": {
            "text/plain": [
              "TrainOutput(global_step=300, training_loss=0.4663028824329376, metrics={'train_runtime': 636.2288, 'train_samples_per_second': 9.431, 'train_steps_per_second': 0.589, 'total_flos': 1262933065728000.0, 'train_loss': 0.4663028824329376, 'epoch': 4.0})"
            ]
          },
          "metadata": {},
          "execution_count": 63
        }
      ]
    },
    {
      "cell_type": "code",
      "source": [
        "# Make predictions on the test set\n",
        "predictions = trainer.predict(test_dataset)\n",
        "\n",
        "# Get the predicted labels\n",
        "predicted_labels = predictions.predictions.argmax(-1)\n",
        "\n",
        "# Add predictions to the test DataFrame\n",
        "test_df['predicted_label'] = predicted_labels\n",
        "\n",
        "# Map the numeric labels back to text\n",
        "test_df['predicted_review_type'] = test_df['predicted_label'].map({0: 'truthful', 1: 'deceptive'})\n",
        "\n",
        "# Display the results\n",
        "print(test_df[['review_text', 'review_type', 'predicted_review_type']])"
      ],
      "metadata": {
        "colab": {
          "base_uri": "https://localhost:8080/",
          "height": 502
        },
        "id": "DP-B-nqiS2dA",
        "outputId": "10ba49ae-415f-4e55-91c2-cf884475b80b"
      },
      "execution_count": null,
      "outputs": [
        {
          "output_type": "display_data",
          "data": {
            "text/plain": [
              "<IPython.core.display.HTML object>"
            ],
            "text/html": []
          },
          "metadata": {}
        },
        {
          "output_type": "stream",
          "name": "stdout",
          "text": [
            "                                            review_text review_type  \\\n",
            "300   We stayed at the swissotel for our 25th annive...    truthful   \n",
            "861   My in-laws booked a one night stay for New Yea...    truthful   \n",
            "860   Months prior to my 5-night reservation with th...    truthful   \n",
            "390   Spent a wonderful night at the Amalfi with fri...    truthful   \n",
            "1327  I was going on a 3 day personal trip to Chicag...   deceptive   \n",
            "...                                                 ...         ...   \n",
            "636   Located right in the heart of downtown Chicago...   deceptive   \n",
            "388   I have stayed at the Amalfi Hotel before and i...    truthful   \n",
            "872   We stayed here because of the enthusiastic pos...    truthful   \n",
            "1346  I have visited Chicago with my family several ...   deceptive   \n",
            "209   Ok, so first trip to chicago and I was a litll...    truthful   \n",
            "\n",
            "     predicted_review_type  \n",
            "300               truthful  \n",
            "861               truthful  \n",
            "860               truthful  \n",
            "390               truthful  \n",
            "1327             deceptive  \n",
            "...                    ...  \n",
            "636              deceptive  \n",
            "388               truthful  \n",
            "872               truthful  \n",
            "1346             deceptive  \n",
            "209               truthful  \n",
            "\n",
            "[200 rows x 3 columns]\n"
          ]
        }
      ]
    },
    {
      "cell_type": "code",
      "source": [
        "import matplotlib.pyplot as plt\n",
        "\n",
        "# Get the training logs\n",
        "train_logs = trainer.state.log_history\n",
        "\n",
        "# Extract relevant metrics\n",
        "train_epochs = [log['epoch'] for log in train_logs if 'loss' in log]\n",
        "train_loss = [log['loss'] for log in train_logs if 'loss' in log]\n",
        "\n",
        "# Extract validation logs (assuming 'eval_loss' and 'eval_accuracy' are recorded in the same log entries)\n",
        "eval_epochs = [log['epoch'] for log in train_logs if 'eval_loss' in log]\n",
        "eval_loss = [log['eval_loss'] for log in train_logs if 'eval_loss' in log]\n",
        "eval_accuracy = [log['eval_accuracy'] for log in train_logs if 'eval_accuracy' in log]\n",
        "\n",
        "# Plotting training and validation loss\n",
        "plt.figure(figsize=(12, 5))\n",
        "\n",
        "plt.subplot(1, 2, 1)\n",
        "\n",
        "# Plot train loss across all training epochs\n",
        "plt.plot(train_epochs, train_loss, label='Train Loss', marker='o')\n",
        "\n",
        "# Plot validation loss at the epochs it was recorded\n",
        "if eval_epochs and eval_loss:\n",
        "    plt.plot(eval_epochs, eval_loss, label='Validation Loss', marker='o')\n",
        "\n",
        "plt.xlabel('Epochs')\n",
        "plt.ylabel('Loss')\n",
        "plt.title('Training and Validation Loss')\n",
        "plt.legend()\n",
        "plt.grid()\n",
        "\n",
        "'''\n",
        "# Plotting validation accuracy\n",
        "plt.subplot(1, 2, 2)\n",
        "# Check if both eval_epochs and eval_accuracy exist before plotting\n",
        "if eval_epochs and eval_accuracy:\n",
        "    plt.plot(eval_epochs, eval_accuracy, label='Validation Accuracy', marker='o', color='orange')\n",
        "plt.xlabel('Epochs')\n",
        "plt.ylabel('Accuracy')\n",
        "plt.title('Validation Accuracy')\n",
        "plt.legend()\n",
        "plt.grid()\n",
        "\n",
        "plt.tight_layout()\n",
        "plt.show()\n",
        "'''"
      ],
      "metadata": {
        "colab": {
          "base_uri": "https://localhost:8080/",
          "height": 542
        },
        "id": "zF9OUk6Mq_wt",
        "outputId": "1a0ea6bb-7433-43bc-89a5-103984978c83"
      },
      "execution_count": null,
      "outputs": [
        {
          "output_type": "execute_result",
          "data": {
            "text/plain": [
              "\"\\n# Plotting validation accuracy\\nplt.subplot(1, 2, 2)\\n# Check if both eval_epochs and eval_accuracy exist before plotting\\nif eval_epochs and eval_accuracy:\\n    plt.plot(eval_epochs, eval_accuracy, label='Validation Accuracy', marker='o', color='orange')\\nplt.xlabel('Epochs')\\nplt.ylabel('Accuracy')\\nplt.title('Validation Accuracy')\\nplt.legend()\\nplt.grid()\\n\\nplt.tight_layout()\\nplt.show()\\n\""
            ],
            "application/vnd.google.colaboratory.intrinsic+json": {
              "type": "string"
            }
          },
          "metadata": {},
          "execution_count": 66
        },
        {
          "output_type": "display_data",
          "data": {
            "text/plain": [
              "<Figure size 1200x500 with 1 Axes>"
            ],
            "image/png": "[encoded data removed]"
          },
          "metadata": {}
        }
      ]
    },
    {
      "cell_type": "markdown",
      "source": [
        "![image.png](data:image/png;base64,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)"
      ],
      "metadata": {
        "id": "eUPeSxNI0Ivl"
      }
    },
    {
      "cell_type": "code",
      "source": [
        "from sklearn import metrics\n",
        "from sklearn.metrics import confusion_matrix, classification_report, roc_curve\n",
        "from sklearn.metrics import accuracy_score, precision_score, recall_score, f1_score, matthews_corrcoef\n",
        "from sklearn.metrics import ConfusionMatrixDisplay\n",
        "\n",
        "# Generate the classification report\n",
        "report = classification_report(test_df['review_type'], test_df['predicted_review_type'], target_names=['Truthful', 'Deceptive'])\n",
        "print(report)\n",
        "\n",
        "t_df = test_df['predicted_label'].map({0: 'truthful', 1: 'deceptive'})\n",
        "\n",
        "print(f\"Accuracy: {accuracy_score(test_df['review_type'], test_df['predicted_review_type'])}\")\n",
        "print(f\"\\n Precision: {precision_score(test_df['review_type'], test_df['predicted_review_type'],pos_label='truthful')}\")\n",
        "print(f\"\\n Recall: {recall_score(test_df['review_type'], test_df['predicted_review_type'],pos_label='truthful')}\")\n",
        "print(f\"\\n f1-score: {f1_score(test_df['review_type'], test_df['predicted_review_type'],pos_label='truthful')} \\n\")\n",
        "\n",
        "# Generate the confusion matrix\n",
        "cm = confusion_matrix(test_df['review_type'], test_df['predicted_review_type'], labels=['truthful', 'deceptive'])\n",
        "print(f\"Confusion matrix: {cm}\")\n",
        "\n",
        "print(f\"Mathews Correlation: {matthews_corrcoef(test_df['review_type'], test_df['predicted_review_type'])}\")\n",
        "\n",
        "# Plotting the confusion matrix\n",
        "disp = ConfusionMatrixDisplay(confusion_matrix=cm, display_labels=['Truthful', 'Deceptive'])\n",
        "disp.plot(cmap='Blues')\n",
        "plt.title('Confusion Matrix')\n",
        "plt.show()"
      ],
      "metadata": {
        "colab": {
          "base_uri": "https://localhost:8080/",
          "height": 831
        },
        "id": "7EeJjtCXTF70",
        "outputId": "dbbf2b44-00bf-4152-b70a-0233871736ac"
      },
      "execution_count": null,
      "outputs": [
        {
          "output_type": "stream",
          "name": "stdout",
          "text": [
            "              precision    recall  f1-score   support\n",
            "\n",
            "    Truthful       0.91      0.86      0.89       100\n",
            "   Deceptive       0.87      0.92      0.89       100\n",
            "\n",
            "    accuracy                           0.89       200\n",
            "   macro avg       0.89      0.89      0.89       200\n",
            "weighted avg       0.89      0.89      0.89       200\n",
            "\n",
            "Accuracy: 0.89\n",
            "\n",
            " Precision: 0.8679245283018868\n",
            "\n",
            " Recall: 0.92\n",
            "\n",
            " f1-score: 0.8932038834951457 \n",
            "\n",
            "Confusion matrix: [[92  8]\n",
            " [14 86]]\n",
            "Mathews Correlation: 0.7814078022083395\n"
          ]
        },
        {
          "output_type": "display_data",
          "data": {
            "text/plain": [
              "<Figure size 640x480 with 2 Axes>"
            ],
            "image/png": "[encoded data removed]"
          },
          "metadata": {}
        }
      ]
    },
    {
      "cell_type": "code",
      "source": [
        "from sklearn.metrics import roc_curve, auc\n",
        "\n",
        "# Get the probabilities of the positive class\n",
        "probabilities = predictions.predictions[:, 1]  # Assuming class 1 is 'deceptive'\n",
        "\n",
        "# Calculate the ROC curve\n",
        "fpr, tpr, thresholds = roc_curve(test_labels, probabilities, pos_label=1)\n",
        "roc_auc = auc(fpr, tpr)\n",
        "\n",
        "print(f\" Area UC: {metrics.auc(fpr, tpr)}\")\n",
        "\n",
        "# Plotting the AUC-ROC curve\n",
        "plt.figure(figsize=(8, 6))\n",
        "plt.plot(fpr, tpr, color='blue', label='AUC = {:.2f}'.format(roc_auc))\n",
        "plt.plot([0, 1], [0, 1], color='red', linestyle='--')  # Diagonal line\n",
        "plt.xlim([0.0, 1.0])\n",
        "plt.ylim([0.0, 1.05])\n",
        "plt.xlabel('False Positive Rate')\n",
        "plt.ylabel('True Positive Rate')\n",
        "plt.title('Receiver Operating Characteristic (ROC) Curve')\n",
        "plt.legend(loc='lower right')\n",
        "plt.grid()\n",
        "plt.show()"
      ],
      "metadata": {
        "colab": {
          "base_uri": "https://localhost:8080/",
          "height": 582
        },
        "id": "RxJWhfhgTSTc",
        "outputId": "845b5ccc-2458-4ff6-b91d-5a6f14c8309d"
      },
      "execution_count": null,
      "outputs": [
        {
          "output_type": "stream",
          "name": "stdout",
          "text": [
            " Area UC: 0.9549999999999998\n"
          ]
        },
        {
          "output_type": "display_data",
          "data": {
            "text/plain": [
              "<Figure size 800x600 with 1 Axes>"
            ],
            "image/png": "[encoded data removed]"
          },
          "metadata": {}
        }
      ]
    }
  ]
}